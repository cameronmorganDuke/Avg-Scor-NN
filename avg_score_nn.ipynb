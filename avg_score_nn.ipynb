{
 "cells": [
  {
   "cell_type": "markdown",
   "id": "0d07a998-fb9e-4de5-bc3c-8974b8db3aff",
   "metadata": {},
   "source": [
    "## Import Libraries, Class, and Functions"
   ]
  },
  {
   "cell_type": "code",
   "execution_count": 2,
   "id": "5837119f-a12b-4d64-bb9a-d422c9ec179d",
   "metadata": {},
   "outputs": [],
   "source": [
    "import torch\n",
    "import torch.nn as nn\n",
    "import torch.optim as optim\n",
    "import pandas as pd\n",
    "import numpy as np\n",
    "import random\n",
    "from sklearn.metrics import confusion_matrix\n",
    "import seaborn as sns\n",
    "import matplotlib.pyplot as plt\n",
    "from sklearn.inspection import permutation_importance"
   ]
  },
  {
   "cell_type": "code",
   "execution_count": 3,
   "id": "034f909c-6377-4d6e-9ca6-89562d05fb03",
   "metadata": {},
   "outputs": [],
   "source": [
    "class BasketballNet(nn.Module):\n",
    "    def __init__(self, input_size, hidden_size, output_size):\n",
    "        super(BasketballNet, self).__init__()\n",
    "        self.fc1 = nn.Linear(input_size, hidden_size)\n",
    "        self.relu = nn.ReLU()\n",
    "        self.fc2 = nn.Linear(hidden_size, output_size)\n",
    "        \n",
    "    def forward(self, x):\n",
    "        out = self.fc1(x)\n",
    "        out = self.relu(out)\n",
    "        out = self.fc2(out)\n",
    "        return out"
   ]
  },
  {
   "cell_type": "code",
   "execution_count": 4,
   "id": "fe07dc17-67ac-4bd8-ae5d-dc4bbbf6bbcc",
   "metadata": {},
   "outputs": [],
   "source": [
    "def ordinal_encode(column, data):\n",
    "    mapping = {value: idx for idx, value in enumerate(data[column].unique())}\n",
    "    data[column] = data[column].map(mapping)\n",
    "    return data\n",
    "\n",
    "def import_data():\n",
    "\n",
    "    # Load the CSV data into a DataFrame\n",
    "    data = pd.read_csv('nba-player-data.csv')\n",
    "    \n",
    "    # Remove the 'Rk' column\n",
    "    if 'Rk' in data.columns:\n",
    "        del data['Rk']\n",
    "    \n",
    "    # List of columns to be ordinally encoded\n",
    "    encode = [\"Player\", \"Pos\", \"Tm\"]\n",
    "    \n",
    "    # Apply ordinal encoding to each column in 'encode'\n",
    "    for each in encode:\n",
    "        data = ordinal_encode(each, data)\n",
    "    data = data.to_numpy() \n",
    "    temp_data = []\n",
    "    for array in data:\n",
    "        temp_array = []\n",
    "        for item in array:\n",
    "            temp_array.append(float(item))\n",
    "        temp_data.append(temp_array)\n",
    "    data = temp_data\n",
    "\n",
    "    train_input = []\n",
    "    train_output = []\n",
    "    test_input = []\n",
    "    test_output = []\n",
    "    runs = len(data)\n",
    "    while runs != 0:\n",
    "        random_integer = random.randint(0, runs - 1)\n",
    "        which_data = random.randint(0,4)\n",
    "        if np.isnan(data[random_integer]).any():\n",
    "                runs -= 1\n",
    "                continue\n",
    "        if which_data > 0:\n",
    "            train_input.append(data[random_integer][0:-1])\n",
    "            train_output.append(data[random_integer][-1])\n",
    "        else:\n",
    "            test_input.append(data[random_integer][0:-1])\n",
    "            test_output.append(data[random_integer][-1])\n",
    "            \n",
    "        runs -= 1\n",
    "        \n",
    "    return train_input, train_output, test_input, test_output"
   ]
  },
  {
   "cell_type": "markdown",
   "id": "c59bf820-3f99-4c97-a366-3de1b087a151",
   "metadata": {},
   "source": [
    "## Import Data"
   ]
  },
  {
   "cell_type": "code",
   "execution_count": 6,
   "id": "e2966c62-a173-4427-b6da-13bb44beb421",
   "metadata": {},
   "outputs": [],
   "source": [
    "# Import and preprocess data\n",
    "train_input, train_output, test_input, test_output = import_data()\n",
    "train_input = torch.tensor(train_input, dtype=torch.float32)\n",
    "train_output = torch.tensor(train_output, dtype=torch.float32).view(-1, 1)\n",
    "test_input = torch.tensor(test_input, dtype=torch.float32)\n",
    "test_output = torch.tensor(test_output, dtype=torch.float32).view(-1, 1)"
   ]
  },
  {
   "cell_type": "markdown",
   "id": "c5d3878d-f5d9-4d7f-9c65-a786207a0b9f",
   "metadata": {},
   "source": [
    "## Initialize Parameters "
   ]
  },
  {
   "cell_type": "code",
   "execution_count": 8,
   "id": "617be633-f95a-4cfb-b98b-2522b0a73a90",
   "metadata": {},
   "outputs": [],
   "source": [
    "# Parameters\n",
    "input_size = train_input.shape[1]  # Number of features (e.g., stats)\n",
    "hidden_size = 64  # Number of neurons in the hidden layer\n",
    "output_size = 1  # Output is a single value representing points scored"
   ]
  },
  {
   "cell_type": "markdown",
   "id": "64615a29-ada1-4001-935b-b7e5c0c7ecdf",
   "metadata": {},
   "source": [
    "## Create Model"
   ]
  },
  {
   "cell_type": "code",
   "execution_count": 10,
   "id": "a0ccd06e-5f9e-4422-9fbc-0f428899f4b2",
   "metadata": {},
   "outputs": [],
   "source": [
    "# Create the model\n",
    "model = BasketballNet(input_size, hidden_size, output_size)"
   ]
  },
  {
   "cell_type": "code",
   "execution_count": 11,
   "id": "28f82f70-a490-44e4-b21b-efb9f7b7896b",
   "metadata": {},
   "outputs": [],
   "source": [
    "# Loss and optimizer\n",
    "criterion = nn.MSELoss()\n",
    "optimizer = optim.Adam(model.parameters(), lr=0.001)"
   ]
  },
  {
   "cell_type": "markdown",
   "id": "f632a122-40c3-4242-ae13-58b51d251827",
   "metadata": {},
   "source": [
    "## Train Data "
   ]
  },
  {
   "cell_type": "markdown",
   "id": "2209ffe7-aab8-4399-a2df-b5264c560b70",
   "metadata": {},
   "source": [
    "Some key things to remember. Each epoche is training the full train data set. Loss is just how far off the actual output is from the forward propogation output that the network generates. "
   ]
  },
  {
   "cell_type": "code",
   "execution_count": 14,
   "id": "13a9b3a3-a590-4b69-b157-c133e1ad7d0e",
   "metadata": {},
   "outputs": [
    {
     "name": "stdout",
     "output_type": "stream",
     "text": [
      "Epoch [100/1000], Loss: 2.5137\n",
      "Epoch [200/1000], Loss: 0.4487\n",
      "Epoch [300/1000], Loss: 0.2672\n",
      "Epoch [400/1000], Loss: 0.1904\n",
      "Epoch [500/1000], Loss: 0.1456\n",
      "Epoch [600/1000], Loss: 0.1134\n",
      "Epoch [700/1000], Loss: 0.0889\n",
      "Epoch [800/1000], Loss: 0.0680\n",
      "Epoch [900/1000], Loss: 0.0525\n",
      "Epoch [1000/1000], Loss: 0.0412\n"
     ]
    }
   ],
   "source": [
    "# Training loop\n",
    "num_epochs = 1000\n",
    "train_loss = []\n",
    "for epoch in range(num_epochs):\n",
    "    # Forward pass\n",
    "    #print(train_input)\n",
    "    outputs = model(train_input)\n",
    "    #print(outputs)\n",
    "    loss = criterion(outputs, train_output)\n",
    "    \n",
    "    # Backward pass and optimization\n",
    "    optimizer.zero_grad()\n",
    "    loss.backward()\n",
    "    optimizer.step()\n",
    "    \n",
    "    if (epoch+1) % 100 == 0:\n",
    "        \n",
    "        print(f'Epoch [{epoch+1}/{num_epochs}], Loss: {loss.item():.4f}')\n",
    "        train_loss.append(loss.item())"
   ]
  },
  {
   "cell_type": "markdown",
   "id": "ebb4516c-95aa-4cc7-a833-da989d987d3d",
   "metadata": {},
   "source": [
    "## Test the accuracy of the model"
   ]
  },
  {
   "cell_type": "code",
   "execution_count": 16,
   "id": "77d69316-c8d5-4def-bba9-e92e21245af5",
   "metadata": {},
   "outputs": [
    {
     "name": "stdout",
     "output_type": "stream",
     "text": [
      "Predictions: [1.35, 16.88, 14.38, 7.45, 13.85, 27.37, 15.08, 14.66, 4.79, 14.74, 20.56, 3.67, 3.02, 2.24, 6.09, 20.56, 3.11, 14.61, 4.06, 9.56, 15.08, 17.24, 5.15, 3.74, 3.97, 16.38, 6.88, 13.85, 14.05, 9.84, 4.45, 1.18, 5.22, 7.54, 6.58, 2.43, 9.1, 2.73, 5.7, 0.24, 5.84, 4.14, 6.62, 12.98, 4.15, 6.61, 5.37, 13.31, 13.91, 2.88, 13.31, 4.29, 7.84, 7.38, 12.47, 2.2, 4.14, 23.84, 20.14, 24.16, 9.02, 7.01, 20.28, 3.24, 8.83, 11.08, 3.56, 5.37, 30.12, 6.93, 8.12, 2.88, 4.46, 7.52, 5.11, 7.58, 4.16, 3.62, 2.05, 11.21, 7.52, 3.78, 5.1, 4.57, 3.62, 2.63, 5.27, 19.64, 11.31, 3.34, 13.91, 5.69, 11.31, 16.55, 10.59, 14.94, 14.94, 14.61, 5.69, 14.76, 3.24, 13.32, 13.32, 0.98, 6.93, 7.73, 7.58, 7.73]\n",
      "Actual: [1.399999976158142, 16.899999618530273, 14.0, 7.400000095367432, 14.0, 26.899999618530273, 15.600000381469727, 14.600000381469727, 5.5, 15.100000381469727, 19.899999618530273, 3.4000000953674316, 2.9000000953674316, 2.299999952316284, 5.900000095367432, 19.899999618530273, 3.200000047683716, 14.699999809265137, 4.0, 10.199999809265137, 15.600000381469727, 17.100000381469727, 5.0, 4.0, 4.400000095367432, 16.700000762939453, 6.699999809265137, 14.0, 13.899999618530273, 10.199999809265137, 4.199999809265137, 1.2999999523162842, 5.0, 7.900000095367432, 6.199999809265137, 2.5, 8.800000190734863, 2.799999952316284, 5.300000190734863, 0.5, 5.5, 4.300000190734863, 6.699999809265137, 13.800000190734863, 4.199999809265137, 6.5, 5.400000095367432, 13.399999618530273, 14.100000381469727, 2.799999952316284, 13.399999618530273, 4.400000095367432, 7.5, 7.300000190734863, 12.5, 2.200000047683716, 4.300000190734863, 23.700000762939453, 20.100000381469727, 24.0, 9.199999809265137, 6.900000095367432, 19.600000381469727, 3.299999952316284, 8.800000190734863, 11.0, 3.5999999046325684, 5.400000095367432, 30.100000381469727, 7.099999904632568, 8.699999809265137, 2.799999952316284, 4.599999904632568, 7.699999809265137, 4.800000190734863, 7.599999904632568, 4.199999809265137, 3.799999952316284, 2.299999952316284, 11.300000190734863, 7.699999809265137, 3.700000047683716, 5.199999809265137, 4.5, 3.799999952316284, 2.5, 5.300000190734863, 19.600000381469727, 11.600000381469727, 3.4000000953674316, 14.100000381469727, 5.5, 11.600000381469727, 16.700000762939453, 10.300000190734863, 15.100000381469727, 15.100000381469727, 14.699999809265137, 5.5, 14.699999809265137, 3.299999952316284, 13.5, 13.5, 0.8999999761581421, 7.099999904632568, 7.599999904632568, 7.599999904632568, 7.599999904632568]\n",
      "Mean Absolute Error (MAE): 0.1939814819229974\n"
     ]
    }
   ],
   "source": [
    "# Test the model\n",
    "with torch.no_grad():\n",
    "    predictions = model(test_input)\n",
    "\n",
    "test_output = [float(each) for each in test_output]\n",
    "predictions = [round(float(each), 2) for each in predictions]\n",
    "    \n",
    "# Print predictions and compare with actual values\n",
    "#print(\"Predictions:\", predictions)\n",
    "#print(\"Actual:\", test_output)\n",
    "\n",
    "# Calculate and print Mean Absolute Error (MAE)\n",
    "mae = sum(abs(to - pred) for to, pred in zip(test_output, predictions)) / len(test_output)\n",
    "\n",
    "print(f\"Mean Absolute Error (MAE): {mae}\")"
   ]
  },
  {
   "cell_type": "markdown",
   "id": "615d3d36-0c35-4ea3-b8f3-28e23798e34d",
   "metadata": {},
   "source": [
    "## Vizualizations"
   ]
  },
  {
   "cell_type": "markdown",
   "id": "d1ba1589-768d-4d65-9eb0-39ae1b7d32a9",
   "metadata": {},
   "source": [
    "Confusion Matrix"
   ]
  },
  {
   "cell_type": "code",
   "execution_count": null,
   "id": "02b3b42d-8f9d-47b9-b7b3-993f4b401744",
   "metadata": {
    "scrolled": true
   },
   "outputs": [],
   "source": [
    "test_output = [round(float(each), 0) for each in test_output]\n",
    "predictions = [round(float(each), 0) for each in predictions]\n",
    "\n",
    "\n",
    "# Compute confusion matrix\n",
    "cm = confusion_matrix(test_output, predictions)\n",
    "\n",
    "# Plot confusion matrix\n",
    "sns.heatmap(cm, annot=True, fmt='d')\n",
    "plt.xlabel('Predicted')\n",
    "plt.ylabel('True')\n",
    "plt.show()"
   ]
  }
 ],
 "metadata": {
  "kernelspec": {
   "display_name": "Python 3 (ipykernel)",
   "language": "python",
   "name": "python3"
  },
  "language_info": {
   "codemirror_mode": {
    "name": "ipython",
    "version": 3
   },
   "file_extension": ".py",
   "mimetype": "text/x-python",
   "name": "python",
   "nbconvert_exporter": "python",
   "pygments_lexer": "ipython3",
   "version": "3.12.4"
  }
 },
 "nbformat": 4,
 "nbformat_minor": 5
}
